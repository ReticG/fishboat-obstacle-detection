# 导入必要的库
import cv2
import numpy as np
from src.depth_estimation import compute_depth, visualize_depth_map
from src.object_detection import detect_objects
from IPython.display import display, Image
import matplotlib.pyplot as plt

# 读取左右图像
left_image_path = "data/left_images/0000000005.png"
right_image_path = "data/right_images/0000000005.png"

left_image = cv2.imread(left_image_path, cv2.IMREAD_GRAYSCALE)
right_image = cv2.imread(right_image_path, cv2.IMREAD_GRAYSCALE)

# 计算深度图
depth_map = compute_depth(left_image, right_image)
depth_map_color = visualize_depth_map(depth_map)

# 显示深度图
plt.figure(figsize=(10, 5))
plt.imshow(depth_map_color)
plt.title("Depth Map")
plt.axis('off')
plt.show()

# 检测目标
left_image_color = cv2.imread(left_image_path)
detections = detect_objects(left_image_color)

# 显示检测结果
plt.figure(figsize=(10, 5))
plt.imshow(cv2.cvtColor(left_image_color, cv2.COLOR_BGR2RGB))
plt.title("Object Detection")
plt.axis('off')

# 绘制检测框
for det in detections.xyxy[0].numpy():
    x1, y1, x2, y2, conf, cls = det
    label = f'{detections.names[int(cls)]} {conf:.2f}'
    plt.gca().add_patch(plt.Rectangle((x1, y1), x2 - x1, y2 - y1, fill=False, edgecolor='red', linewidth=2))
    plt.gca().text(x1, y1 - 10, label, color='red')

plt.show()

