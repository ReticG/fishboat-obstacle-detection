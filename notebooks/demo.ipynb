# 导入必要的库
import cv2
import numpy as np
from src.depth_estimation import compute_depth, visualize_depth_map
from src.object_detection import detect_objects

# 读取左右图像
left_image = cv2.imread("data/left_images/0000000005.png", cv2.IMREAD_GRAYSCALE)
right_image = cv2.imread("data/right_images/0000000005.png", cv2.IMREAD_GRAYSCALE)

# 计算深度图
depth_map = compute_depth(left_image, right_image)
depth_map_color = visualize_depth_map(depth_map)

# 显示深度图
cv2.imshow("Depth Map", depth_map_color)
cv2.waitKey(0)
cv2.destroyAllWindows()

# 检测目标
left_image_color = cv2.imread("data/left_images/0000000005.png")
detections = detect_objects(left_image_color)
print(detections)

